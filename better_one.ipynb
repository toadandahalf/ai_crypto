{
 "cells": [
  {
   "cell_type": "code",
   "execution_count": 1,
   "metadata": {
    "id": "VWFOyaMmyT4O"
   },
   "outputs": [],
   "source": [
    "import pandas as pd\n",
    "import numpy as np\n",
    "from sklearn.preprocessing import MinMaxScaler\n",
    "import keras\n",
    "import pprint as pp\n",
    "import tensorflow as tf\n",
    "import os"
   ]
  },
  {
   "cell_type": "code",
   "execution_count": 2,
   "metadata": {
    "id": "rkvvI0s4ybRc"
   },
   "outputs": [],
   "source": [
    "EPOCHS = 20\n",
    "WINDOW_HEIGHT = 1\n",
    "PERIODS_RSI = 7\n",
    "PERIOD_LONG_MACD = 13\n",
    "PERIOD_SHORT_MACD = 6\n",
    "PERIOD_SIGNAL_MACD = 9\n",
    "STEP_BACK = max(PERIOD_SIGNAL_MACD, PERIOD_SHORT_MACD, PERIOD_LONG_MACD, PERIODS_RSI, WINDOW_HEIGHT)\n",
    "WAY = 'raw_data_SOL'\n",
    "\n",
    "file_names = os.listdir(WAY)\n",
    "\n",
    "if file_names[0] == '.ipynb_checkpoints':\n",
    "    file_names.pop(0)\n",
    "\n",
    "pd.set_option('display.max_rows', None)\n",
    "np.set_printoptions(threshold=np.inf)\n",
    "\n",
    "# source = 'https://public.bybit.com'"
   ]
  },
  {
   "cell_type": "code",
   "execution_count": 3,
   "metadata": {
    "jupyter": {
     "source_hidden": true
    }
   },
   "outputs": [],
   "source": [
    "\"\"\"\n",
    "Exponential moving average\n",
    "Source: http://stockcharts.com/school/doku.php?id=chart_school:technical_indicators:moving_averages\n",
    "Params: \n",
    "    data: pandas DataFrame\n",
    "    period: smoothing period\n",
    "    column: the name of the column with values for calculating EMA in the 'data' DataFrame\n",
    "    \n",
    "Returns:\n",
    "    copy of 'data' DataFrame with 'ema[period]' column added\n",
    "\"\"\"\n",
    "def ema(data, period=0, column='close'):\n",
    "    data['ema' + str(period)] = data[column].ewm(ignore_na=False, min_periods=period, com=period, adjust=True).mean()\n",
    "    \n",
    "    return data"
   ]
  },
  {
   "cell_type": "code",
   "execution_count": 4,
   "metadata": {
    "jupyter": {
     "source_hidden": true
    }
   },
   "outputs": [],
   "source": [
    "\"\"\"\n",
    "Moving Average Convergence/Divergence Oscillator (MACD)\n",
    "Source: http://stockcharts.com/school/doku.php?id=chart_school:technical_indicators:moving_average_convergence_divergence_macd\n",
    "Params: \n",
    "    data: pandas DataFrame\n",
    "    period_long: the longer period EMA (26 days recommended)\n",
    "    period_short: the shorter period EMA (12 days recommended)\n",
    "    period_signal: signal line EMA (9 days recommended)\n",
    "    column: the name of the column with values for calculating MACD in the 'data' DataFrame\n",
    "    \n",
    "Returns:\n",
    "    copy of 'data' DataFrame with 'macd_val' and 'macd_signal_line' columns added\n",
    "\"\"\"\n",
    "def macd(data, period_long=26, period_short=12, period_signal=9, column='close'):\n",
    "    remove_cols = []\n",
    "    if not 'ema' + str(period_long) in data.columns:\n",
    "        data = ema(data, period_long)\n",
    "        remove_cols.append('ema' + str(period_long))\n",
    "\n",
    "    if not 'ema' + str(period_short) in data.columns:\n",
    "        data = ema(data, period_short)\n",
    "        remove_cols.append('ema' + str(period_short))\n",
    "\n",
    "    data['macd_val'] = data['ema' + str(period_short)] - data['ema' + str(period_long)]\n",
    "    data['macd_signal_line'] = data['macd_val'].ewm(ignore_na=False, min_periods=0, com=period_signal, adjust=True).mean()\n",
    "\n",
    "    data = data.drop(remove_cols, axis=1)\n",
    "        \n",
    "    return data"
   ]
  },
  {
   "cell_type": "code",
   "execution_count": 5,
   "metadata": {
    "jupyter": {
     "source_hidden": true
    }
   },
   "outputs": [],
   "source": [
    "def rsi(data, periods=14, close_col='close'):\n",
    "    data['rsi_u'] = 0.\n",
    "    data['rsi_d'] = 0.\n",
    "    \n",
    "    for index in range(1, len(data)):\n",
    "        change = float(data.at[index, close_col]) - float(data.at[index - 1, close_col])\n",
    "        if change > 0:\n",
    "            data.at[index, 'rsi_u'] = change\n",
    "        else:\n",
    "            data.at[index, 'rsi_d'] = -change\n",
    "    \n",
    "    # Рассчитываем средние значения\n",
    "    avg_gain = data['rsi_u'].rolling(window=periods).mean()\n",
    "    avg_loss = data['rsi_d'].rolling(window=periods).mean()\n",
    "    \n",
    "    # Избегаем деления на ноль\n",
    "    rs = avg_gain / avg_loss.replace(0, float('nan'))  # заменяем нули на NaN\n",
    "    data['rsi'] = 100 - (100 / (1 + rs))\n",
    "    \n",
    "    return data.drop(['rsi_u', 'rsi_d'], axis=1)"
   ]
  },
  {
   "cell_type": "code",
   "execution_count": 6,
   "metadata": {},
   "outputs": [],
   "source": [
    "def close_trend_heatmap(data):\n",
    "    data['close_went_up'] = (data['close'] > data['close'].shift(1)).astype(int)\n",
    "    data['close_went_down'] = (data['close'] <= data['close'].shift(1)).astype(int)\n",
    "        \n",
    "    return data"
   ]
  },
  {
   "cell_type": "code",
   "execution_count": 7,
   "metadata": {
    "jupyter": {
     "source_hidden": true
    }
   },
   "outputs": [],
   "source": [
    "def macd_val_to_signal_heatmap(data, macd_val, macd_signal_line):\n",
    "    data['val_is_high'] = (data[macd_val] > data[macd_signal_line]).astype(int)\n",
    "    data['val_is_low'] = (data[macd_val] <= data[macd_signal_line]).astype(int)\n",
    "    \n",
    "    return data    "
   ]
  },
  {
   "cell_type": "code",
   "execution_count": 8,
   "metadata": {
    "jupyter": {
     "source_hidden": true
    }
   },
   "outputs": [],
   "source": [
    "def macd_to_zero_heatmap(data, macd_val):\n",
    "    data['macd_is_high'] = (data[macd_val] > 0).astype(int)\n",
    "    data['macd_is_low'] = (data[macd_val] <= 0).astype(int)\n",
    "\n",
    "    return data"
   ]
  },
  {
   "cell_type": "code",
   "execution_count": 9,
   "metadata": {},
   "outputs": [],
   "source": [
    "def data_converter(csv_names, WINDOW_HEIGHT, way):\n",
    "    '''из первого датасета берет с конца данные размера окна'''\n",
    "    \n",
    "    raw_list = []\n",
    "    features = []\n",
    "    labels = []\n",
    "    \n",
    "    with open(f'{way}/{csv_names[0]}', 'r') as first_to_pop:\n",
    "        raw_list.extend(\n",
    "            list(map(lambda x: x.rstrip().split(','), first_to_pop.readlines()[- (STEP_BACK + 1):]))\n",
    "        )\n",
    "    csv_names.pop(0)\n",
    "\n",
    "    for i in csv_names:\n",
    "        with open(f'{way}/{i}', 'r') as csv_file:\n",
    "            raw_list.extend(list(map(lambda x: x.rstrip().split(','), csv_file.readlines()[1:]))\n",
    "            )\n",
    "            \n",
    "    raw_list = pd.DataFrame(raw_list, columns=['timestamp', 'symbol', 'period', 'open', 'high', 'low', 'close'])\n",
    "    del raw_list['timestamp']\n",
    "    del raw_list['symbol']\n",
    "    del raw_list['period']\n",
    "    del raw_list['open']\n",
    "\n",
    "    raw_list = macd(raw_list, period_long=PERIOD_LONG_MACD, period_short=PERIOD_SHORT_MACD, period_signal=PERIOD_SIGNAL_MACD) \n",
    "    raw_list = rsi(raw_list, periods=PERIODS_RSI)\n",
    "    raw_list = close_trend_heatmap(raw_list)\n",
    "    raw_list = macd_val_to_signal_heatmap(raw_list, 'macd_val', 'macd_signal_line')\n",
    "    raw_list = macd_to_zero_heatmap(raw_list, 'macd_val')\n",
    "    raw_list = raw_list.dropna()\n",
    "\n",
    "    scaler = MinMaxScaler()\n",
    "    scaler.fit(raw_list)\n",
    "    raw_list = scaler.transform(raw_list)\n",
    "    raw_list = pd.DataFrame(raw_list, columns=['high', 'low', 'close', 'macd_val', 'macd_signal_line', 'rsi', 'val_is_low', 'val_is_high', 'close_went_down', 'close_went_up', 'macd_is_low', 'macd_is_high'])\n",
    "    \n",
    "    for i in range(1, len(raw_list) - WINDOW_HEIGHT):\n",
    "        buffer = []\n",
    "        for j in range(WINDOW_HEIGHT):\n",
    "            \n",
    "            buffer.append([\n",
    "                float(raw_list.iloc[i + j]['high']),\n",
    "                float(raw_list.iloc[i + j]['rsi']),\n",
    "                float(raw_list.iloc[i + j]['close']),\n",
    "                float(raw_list.iloc[i + j]['low']),\n",
    "                float(raw_list.iloc[i + j]['macd_val']),\n",
    "                float(raw_list.iloc[i + j]['macd_signal_line']),\n",
    "                float(raw_list.iloc[i + j]['macd_is_high']),\n",
    "                float(raw_list.iloc[i + j]['macd_is_low']),\n",
    "                float(raw_list.iloc[i + j]['val_is_high']),\n",
    "                float(raw_list.iloc[i + j]['val_is_low'])\n",
    "                            ])\n",
    "            \n",
    "        labels.append([\n",
    "                float(raw_list.iloc[i + j + 1]['close_went_up']),\n",
    "                float(raw_list.iloc[i + j + 1]['close_went_down'])\n",
    "        ])\n",
    "        \n",
    "        features.append(buffer)\n",
    "\n",
    "    features = np.array(features)\n",
    "    labels = np.array(labels)\n",
    "\n",
    "    return [features, labels]"
   ]
  },
  {
   "cell_type": "code",
   "execution_count": 10,
   "metadata": {},
   "outputs": [],
   "source": [
    "converted_data = data_converter(file_names, WINDOW_HEIGHT, WAY)\n",
    "\n",
    "x = converted_data[0]\n",
    "y = converted_data[1]\n",
    "WINDOW_LENGHT = len(x[0][0])"
   ]
  },
  {
   "cell_type": "code",
   "execution_count": 11,
   "metadata": {},
   "outputs": [],
   "source": [
    "# model_1 = keras.models.Sequential([\n",
    "\n",
    "#     keras.layers.Conv2D(filters=(WINDOW_HEIGHT - 2) * (WINDOW_LENGHT - 2), kernel_size=(3, 3), padding='valid',\n",
    "# strides=(1, 1), input_shape=(WINDOW_HEIGHT, WINDOW_LENGHT, 1)),\n",
    "\n",
    "#     keras.layers.Reshape((-1, (WINDOW_HEIGHT - 2) * (WINDOW_LENGHT - 2))),\n",
    "\n",
    "#     keras.layers.LSTM((WINDOW_HEIGHT - 2) * (WINDOW_LENGHT - 2), activation='relu'),\n",
    "\n",
    "#     keras.layers.Dense(1)\n",
    "# ]) "
   ]
  },
  {
   "cell_type": "code",
   "execution_count": 12,
   "metadata": {},
   "outputs": [],
   "source": [
    "model_2 = keras.models.Sequential([\n",
    "    keras.layers.LSTM(WINDOW_LENGHT, activation='sigmoid'),\n",
    "\n",
    "    keras.layers.Dense(2, activation='sigmoid')\n",
    "])"
   ]
  },
  {
   "cell_type": "code",
   "execution_count": 13,
   "metadata": {
    "colab": {
     "base_uri": "https://localhost:8080/"
    },
    "id": "peCo5edMyfOe",
    "outputId": "21fc8f3e-7a21-4381-ce7f-48bf890b0581"
   },
   "outputs": [
    {
     "name": "stdout",
     "output_type": "stream",
     "text": [
      "Epoch 1/10\n",
      "\u001b[1m6716/6716\u001b[0m \u001b[32m━━━━━━━━━━━━━━━━━━━━\u001b[0m\u001b[37m\u001b[0m \u001b[1m11s\u001b[0m 1ms/step - accuracy: 0.6368 - loss: 0.3963\n",
      "Epoch 2/10\n",
      "\u001b[1m6716/6716\u001b[0m \u001b[32m━━━━━━━━━━━━━━━━━━━━\u001b[0m\u001b[37m\u001b[0m \u001b[1m10s\u001b[0m 1ms/step - accuracy: 0.7543 - loss: 0.2633\n",
      "Epoch 3/10\n",
      "\u001b[1m6716/6716\u001b[0m \u001b[32m━━━━━━━━━━━━━━━━━━━━\u001b[0m\u001b[37m\u001b[0m \u001b[1m10s\u001b[0m 1ms/step - accuracy: 0.7564 - loss: 0.2525\n",
      "Epoch 4/10\n",
      "\u001b[1m6716/6716\u001b[0m \u001b[32m━━━━━━━━━━━━━━━━━━━━\u001b[0m\u001b[37m\u001b[0m \u001b[1m9s\u001b[0m 1ms/step - accuracy: 0.7584 - loss: 0.2476\n",
      "Epoch 5/10\n",
      "\u001b[1m6716/6716\u001b[0m \u001b[32m━━━━━━━━━━━━━━━━━━━━\u001b[0m\u001b[37m\u001b[0m \u001b[1m9s\u001b[0m 1ms/step - accuracy: 0.7571 - loss: 0.2478\n",
      "Epoch 6/10\n",
      "\u001b[1m6716/6716\u001b[0m \u001b[32m━━━━━━━━━━━━━━━━━━━━\u001b[0m\u001b[37m\u001b[0m \u001b[1m8s\u001b[0m 1ms/step - accuracy: 0.7576 - loss: 0.2459\n",
      "Epoch 7/10\n",
      "\u001b[1m6716/6716\u001b[0m \u001b[32m━━━━━━━━━━━━━━━━━━━━\u001b[0m\u001b[37m\u001b[0m \u001b[1m9s\u001b[0m 1ms/step - accuracy: 0.7602 - loss: 0.2433\n",
      "Epoch 8/10\n",
      "\u001b[1m6716/6716\u001b[0m \u001b[32m━━━━━━━━━━━━━━━━━━━━\u001b[0m\u001b[37m\u001b[0m \u001b[1m8s\u001b[0m 1ms/step - accuracy: 0.7569 - loss: 0.2458\n",
      "Epoch 9/10\n",
      "\u001b[1m6716/6716\u001b[0m \u001b[32m━━━━━━━━━━━━━━━━━━━━\u001b[0m\u001b[37m\u001b[0m \u001b[1m8s\u001b[0m 1ms/step - accuracy: 0.7580 - loss: 0.2447\n",
      "Epoch 10/10\n",
      "\u001b[1m6716/6716\u001b[0m \u001b[32m━━━━━━━━━━━━━━━━━━━━\u001b[0m\u001b[37m\u001b[0m \u001b[1m8s\u001b[0m 1ms/step - accuracy: 0.7582 - loss: 0.2441\n"
     ]
    },
    {
     "data": {
      "text/plain": [
       "<keras.src.callbacks.history.History at 0x1bdde9b5750>"
      ]
     },
     "execution_count": 13,
     "metadata": {},
     "output_type": "execute_result"
    }
   ],
   "source": [
    "chosen_model = model_2\n",
    "\n",
    "chosen_model.compile(optimizer='adam', loss='mae', metrics=['accuracy'])\n",
    "\n",
    "chosen_model.fit(x, y, epochs=10)"
   ]
  },
  {
   "cell_type": "code",
   "execution_count": 14,
   "metadata": {
    "jupyter": {
     "source_hidden": true
    }
   },
   "outputs": [],
   "source": [
    "# a = MODEL.predict(converted_data[0])"
   ]
  },
  {
   "cell_type": "code",
   "execution_count": 15,
   "metadata": {
    "jupyter": {
     "source_hidden": true
    }
   },
   "outputs": [],
   "source": [
    "# plus, minus = 0, 0\n",
    "# yplus, yminus = 0, 0\n",
    "# for i in a:\n",
    "#     if i[0] > i[1]:\n",
    "#         plus += 1\n",
    "#     else:\n",
    "#         minus += 1\n",
    "# print(plus, minus)\n",
    "# for i in converted_data[1]:\n",
    "#     if i[0] > i[1]:\n",
    "#         yplus += 1\n",
    "#     else:\n",
    "#         yminus += 1\n",
    "# print(yplus, yminus)"
   ]
  },
  {
   "cell_type": "code",
   "execution_count": 16,
   "metadata": {
    "jupyter": {
     "source_hidden": true
    }
   },
   "outputs": [],
   "source": [
    "# for i in range(120, 140):\n",
    "#     print(f'ans: {[0, 1] if a[i][0] < a[i][1] else [1, 0]} indicators: {[int(converted_data[0][i][0][6]), int(converted_data[0][i][0][7])]} real: {converted_data[1][i]}')\n",
    "# print(a[:20])"
   ]
  },
  {
   "cell_type": "code",
   "execution_count": 19,
   "metadata": {},
   "outputs": [],
   "source": [
    "chosen_model.save('main_model.keras')"
   ]
  },
  {
   "cell_type": "code",
   "execution_count": null,
   "metadata": {},
   "outputs": [],
   "source": []
  }
 ],
 "metadata": {
  "colab": {
   "provenance": []
  },
  "kernelspec": {
   "display_name": "Python 3 (ipykernel)",
   "language": "python",
   "name": "python3"
  },
  "language_info": {
   "codemirror_mode": {
    "name": "ipython",
    "version": 3
   },
   "file_extension": ".py",
   "mimetype": "text/x-python",
   "name": "python",
   "nbconvert_exporter": "python",
   "pygments_lexer": "ipython3",
   "version": "3.11.8"
  }
 },
 "nbformat": 4,
 "nbformat_minor": 4
}
